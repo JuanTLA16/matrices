{
  "nbformat": 4,
  "nbformat_minor": 0,
  "metadata": {
    "colab": {
      "provenance": [],
      "authorship_tag": "ABX9TyMxnoGnuLyAU4ERoJk1GUf1",
      "include_colab_link": true
    },
    "kernelspec": {
      "name": "python3",
      "display_name": "Python 3"
    },
    "language_info": {
      "name": "python"
    }
  },
  "cells": [
    {
      "cell_type": "markdown",
      "metadata": {
        "id": "view-in-github",
        "colab_type": "text"
      },
      "source": [
        "<a href=\"https://colab.research.google.com/github/JuanTLA16/matrices/blob/main/matrices.ipynb\" target=\"_parent\"><img src=\"https://colab.research.google.com/assets/colab-badge.svg\" alt=\"Open In Colab\"/></a>"
      ]
    },
    {
      "cell_type": "code",
      "execution_count": null,
      "metadata": {
        "id": "54DJBE49LFo0"
      },
      "outputs": [],
      "source": [
        "# ARREGLOS BIDIMENSIONALES (MATRICES)\n",
        "\n",
        "\n",
        "M = [[1,2,3], [4,5,6], [7,8,9]]\n",
        "\n",
        "for i in range(3):\n",
        "  print()\n",
        "  for j in range(3):\n",
        "    print(M[i][j], end = \" \")"
      ]
    },
    {
      "cell_type": "code",
      "source": [
        "# generacion de  una matriz por indexacion \n",
        "import random\n",
        "#dimensiones de la matriz\n",
        "m = int(input(\"No. de filas de la matriz: \"))\n",
        "n =int(input(\"No. de columnas de la matriz: \"))\n",
        "\n",
        "#creacion matriz\n",
        "M =[]\n",
        "for i in range (m):\n",
        "  M.append([])\n",
        "  for j in range (n):\n",
        "    M[i].append(random.randint(1,9))\n",
        "\n",
        "# mostrar matriz\n",
        "\n",
        "for k in range (m):\n",
        "  print()\n",
        "  for j in range (n):\n",
        "    print(M[k][j], end = \"  \")\n",
        "\n",
        "# suma de los elementos de la matriz\n",
        "\n",
        "suma = 0\n",
        "for i in range(m):\n",
        "  for j in range (n):\n",
        "    if i ==j:\n",
        "      suma = suma + M[i][j]\n",
        "print(f\"\\n\\nla suma de los elementos de la diagonal principal es: {suma}\")"
      ],
      "metadata": {
        "colab": {
          "base_uri": "https://localhost:8080/"
        },
        "id": "mi3z9KMYMhAr",
        "outputId": "9250969f-fc7b-419b-9d2b-41175e3333dd"
      },
      "execution_count": null,
      "outputs": [
        {
          "output_type": "stream",
          "name": "stdout",
          "text": [
            "No. de filas de la matriz: 2\n",
            "No. de columnas de la matriz: 2\n",
            "\n",
            "3  2  \n",
            "7  5  \n",
            "\n",
            "la suma de los elementos de la diagonal principal es: 8\n"
          ]
        }
      ]
    },
    {
      "cell_type": "markdown",
      "source": [
        "# Suma de los elementos de la diagonal secundaria."
      ],
      "metadata": {
        "id": "_Gm8d-r9S4Mz"
      }
    },
    {
      "cell_type": "code",
      "source": [
        "# generacion de  una matriz por indexacion \n",
        "import random\n",
        "#dimensiones de la matriz\n",
        "m = int(input(\"No. de filas de la matriz: \"))\n",
        "n = int(input(\"No. de columnas de la matriz: \"))\n",
        "\n",
        "#creacion matriz\n",
        "M =[]\n",
        "for i in range (m):\n",
        "  M.append([])\n",
        "  for j in range (n):\n",
        "    M[i].append(random.randint(1,9))\n",
        "\n",
        "# mostrar matriz\n",
        "\n",
        "for k in range (m):\n",
        "  print()\n",
        "  for j in range (n):\n",
        "    print(M[k][j], end = \"  \")\n",
        "\n",
        "# suma de los elementos de la matriz\n",
        "M.reverse()\n",
        "suma = 0\n",
        "for i in range(m):\n",
        "  for j in range (n):\n",
        "    if i == j:\n",
        "      suma = suma + M[i][j]\n",
        "print(f\"\\n\\nla suma de los elementos de la diagonal secundaria es: {suma}\")"
      ],
      "metadata": {
        "id": "mq5b18tqTAFx"
      },
      "execution_count": null,
      "outputs": []
    },
    {
      "cell_type": "markdown",
      "source": [
        "#Suma de los elementos de la triangular inferior\n"
      ],
      "metadata": {
        "id": "vUwOGX3ITAmh"
      }
    },
    {
      "cell_type": "code",
      "source": [
        "# generacion de  una matriz por indexacion \n",
        "import random\n",
        "#dimensiones de la matriz\n",
        "m = int(input(\"No. de filas de la matriz: \"))\n",
        "n = int(input(\"No. de columnas de la matriz: \"))\n",
        "\n",
        "#creacion matriz\n",
        "M =[]\n",
        "for i in range (m):\n",
        "  M.append([])\n",
        "  for j in range (n):\n",
        "    M[i].append(random.randint(1,9))\n",
        "\n",
        "# mostrar matriz\n",
        "\n",
        "for k in range (m):\n",
        "  print()\n",
        "  for j in range (n):\n",
        "    print(M[k][j], end = \"  \")\n",
        "\n",
        "# suma de los elementos de la matriz\n",
        "suma = 0\n",
        "for i in range(m):\n",
        "    for j in range(n):\n",
        "        if i < j :\n",
        "            suma += M[i][j]\n",
        "\n",
        "print(f\"\\n\\nla suma de los elementos de la diagonal secundaria es: {suma}\")"
      ],
      "metadata": {
        "colab": {
          "base_uri": "https://localhost:8080/"
        },
        "id": "eZ1EH5tYTGOr",
        "outputId": "e4f8c7bd-56b9-432f-84b8-a1784a1962d6"
      },
      "execution_count": null,
      "outputs": [
        {
          "output_type": "stream",
          "name": "stdout",
          "text": [
            "No. de filas de la matriz: 3\n",
            "No. de columnas de la matriz: 3\n",
            "\n",
            "4  9  9  \n",
            "8  9  7  \n",
            "8  2  3  \n",
            "\n",
            "la suma de los elementos de la diagonal secundaria es: 25\n"
          ]
        }
      ]
    },
    {
      "cell_type": "markdown",
      "source": [
        "#Suma de los elementos de la triangular superior\n"
      ],
      "metadata": {
        "id": "P9m0v2XUTHAT"
      }
    },
    {
      "cell_type": "code",
      "source": [
        "# generacion de  una matriz por indexacion \n",
        "import random\n",
        "#dimensiones de la matriz\n",
        "m = int(input(\"No. de filas de la matriz: \"))\n",
        "n = int(input(\"No. de columnas de la matriz: \"))\n",
        "\n",
        "#creacion matriz\n",
        "M =[]\n",
        "for i in range (m):\n",
        "  M.append([])\n",
        "  for j in range (n):\n",
        "    M[i].append(random.randint(1,9))\n",
        "\n",
        "# mostrar matriz\n",
        "\n",
        "for k in range (m):\n",
        "  print()\n",
        "  for j in range (n):\n",
        "    print(M[k][j], end = \"  \")\n",
        "\n",
        "# suma de los elementos de la matriz\n",
        "suma = 0\n",
        "for i in range(m):\n",
        "    for j in range(n):\n",
        "        if i > j :\n",
        "            suma += M[i][j]\n",
        "\n",
        "print(f\"\\n\\nla suma de los elementos de la diagonal secundaria es: {suma}\")"
      ],
      "metadata": {
        "colab": {
          "base_uri": "https://localhost:8080/"
        },
        "id": "sgjEyKefTN0L",
        "outputId": "ab286ea5-a643-4e70-de95-95f062a73e0a"
      },
      "execution_count": null,
      "outputs": [
        {
          "output_type": "stream",
          "name": "stdout",
          "text": [
            "No. de filas de la matriz: 3\n",
            "No. de columnas de la matriz: 3\n",
            "\n",
            "5  2  5  \n",
            "1  5  5  \n",
            "5  6  6  \n",
            "\n",
            "la suma de los elementos de la diagonal secundaria es: 12\n"
          ]
        }
      ]
    },
    {
      "cell_type": "markdown",
      "source": [
        "#Suma de los elementos perifericos"
      ],
      "metadata": {
        "id": "SeArMQvLTOUk"
      }
    },
    {
      "cell_type": "code",
      "source": [
        "# generacion de  una matriz por indexacion \n",
        "import random\n",
        "#dimensiones de la matriz\n",
        "m = int(input(\"No. de filas de la matriz: \"))\n",
        "n = int(input(\"No. de columnas de la matriz: \"))\n",
        "\n",
        "#creacion matriz\n",
        "M =[]\n",
        "for i in range (m):\n",
        "  M.append([])\n",
        "  for j in range (n):\n",
        "    M[i].append(random.randint(1,9))\n",
        "\n",
        "# mostrar matriz\n",
        "\n",
        "for k in range (m):\n",
        "  print()\n",
        "  for j in range (n):\n",
        "    print(M[k][j], end = \"  \")\n",
        "\n",
        "# suma de los elementos de la matriz\n",
        "suma = 0\n",
        "for i in range(m):\n",
        "    for j in range(n):\n",
        "        if i > j :\n",
        "            suma += M[i][j]\n",
        "\n",
        "print(f\"\\n\\nla suma de los elementos de la diagonal secundaria es: {suma}\")"
      ],
      "metadata": {
        "id": "NOzLk1c1TwEp"
      },
      "execution_count": null,
      "outputs": []
    }
  ]
}